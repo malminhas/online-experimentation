{
 "cells": [
  {
   "cell_type": "markdown",
   "id": "2412e5e2-8d6d-432a-b96d-e29ee62a8a7b",
   "metadata": {},
   "source": [
    "## Experiment Playbook"
   ]
  },
  {
   "cell_type": "markdown",
   "id": "1a1e95fd-bd21-42fb-8cec-84f589025687",
   "metadata": {},
   "source": [
    "<p>\n",
    "    Mal Minhas, 23.10.22\n",
    "</p>"
   ]
  },
  {
   "cell_type": "markdown",
   "id": "6e94fa19-e322-4aad-805e-55550be50c9d",
   "metadata": {},
   "source": [
    "This notebook attempts to explain marketplace experimentation from first principles.  We walk through the steps to take in order to determine whether a particular set of conversion results in a given population is **statistically significant (statsig)**, or not.  In order to do this we create a collection of 20000 users, shuffle them then assign each user to one of two equal cohorts, A and B.  These are intended to simulute our control and test cohort respectively.  Imagine we apply a treatment to B and hypothesise that it will result when the treatment is applied to cohort B using an A/B testing framework.  How can we determine if the results we achieve as a result of this application is indeed statisticallly significant?  We can run 1000 simulated trials where we distribute an equal number of conversions across the two cohorts at random.  The resulting normal distribution enables us to assess how likely it is that any one particular result obtains would satisfy the **null hypothesis** which is that there is no  statistically significant difference between cohorts A and B.  This would be the case in the absence of any treatment if we conducted a series of so-called A/A tests with the same two cohorts.  If we can show a result as extreme as ours has a 5% or less likelihood of naturally occurring, we can assume that the null hypothesis is rejected.  In this event we can reasonably conclude that the treatment has been statistically significant.  In technical terms, our **p-value** or $\\alpha$ is the corresponding likelihood of the event occurring naturally.  An $\\alpha$ of 0.05 is indicative of a rejection of the null hypothesis.  Our **statsig** value is just $1-\\alpha$ so an alternative framing is that if we achieve a statsig of 95%+ we reject the null hypothesis:\n",
    "<p>\n",
    "$$\\alpha <= 0.05$$\n",
    "$$statsig = 1-\\alpha$$\n",
    "</p>"
   ]
  },
  {
   "cell_type": "markdown",
   "id": "f492f582-8048-4005-a4c4-8ac3e12ad323",
   "metadata": {},
   "source": [
    "Once we have created our two cohorts, we can run 1000 simulations where we randomly distribute conversions across the two cohorts.  This allows us to build a graphical **normal distribution** that we can inspect to calculate the likelihood of a result at least as extreme as the one we suggest.  We can use this distribution to develop an intuitive understanding of the underlying statistics to more readily see how a particular result causes us to reject the null hypothesis."
   ]
  },
  {
   "cell_type": "markdown",
   "id": "a6e067f1-7f05-4629-a7f8-7f14eeda4ea7",
   "metadata": {},
   "source": [
    "### Creating our users"
   ]
  },
  {
   "cell_type": "markdown",
   "id": "d4847834-5570-441e-a1d6-af6e777ac8a2",
   "metadata": {},
   "source": [
    "Let's start by creating our 20000 users which we will model as a list of 20k dictionaries of user data. We will split them at random into two equal **A** (control) and **B** (test) cohorts.  The following code creates our user dictionaries and employs `random.shuffle` to mix them around.  A number of asssertion checkss are included to make sure our cohorts are  equal size and add up to 20k. "
   ]
  },
  {
   "cell_type": "code",
   "execution_count": 1,
   "id": "cc6b857c-6ace-4043-bcb2-ec1e345a835f",
   "metadata": {},
   "outputs": [],
   "source": [
    "import uuid\n",
    "import random\n",
    "\n",
    "def createUser(i):\n",
    "    ''' Create a user with a unique uuid. '''\n",
    "    user = {}\n",
    "    user['id'] = uuid.uuid1().hex\n",
    "    user['cvr'] = 0 \n",
    "    if i%2 == 0:\n",
    "        user['cohort'] = 'A'\n",
    "    else:\n",
    "        user['cohort'] ='B'\n",
    "    return user\n",
    "\n",
    "def createTwoEqualCohorts(N):\n",
    "    everyone = [createUser(i) for i in range(N)]\n",
    "    random.shuffle(everyone)\n",
    "    getCohort = lambda letter: [u for u in everyone if u.get('cohort') == letter]\n",
    "    cohortA = getCohort('A')\n",
    "    cohortB = getCohort('B')\n",
    "    assert(len(cohortA) == len(cohortB))\n",
    "    assert(len(cohortA) == N/2)\n",
    "    return everyone, cohortA, cohortB\n",
    "\n",
    "allUsers, cohortA, cohortB = createTwoEqualCohorts(20000)"
   ]
  },
  {
   "cell_type": "markdown",
   "id": "ce89cdcc-14c5-49c3-a936-8a8310eba5f5",
   "metadata": {},
   "source": [
    "Let's print a few of the resulting users to see what they look like:"
   ]
  },
  {
   "cell_type": "code",
   "execution_count": 2,
   "id": "7ef878b9-8e96-4d84-b94b-8e9a1a2d23d1",
   "metadata": {},
   "outputs": [
    {
     "name": "stdout",
     "output_type": "stream",
     "text": [
      "{'id': '8b49094452e711edbc47acde48001122', 'cvr': 0, 'cohort': 'A'}\n",
      "{'id': '8b4dc5ce52e711edbc47acde48001122', 'cvr': 0, 'cohort': 'B'}\n",
      "{'id': '8b48110652e711edbc47acde48001122', 'cvr': 0, 'cohort': 'B'}\n"
     ]
    }
   ],
   "source": [
    "for u in allUsers[25:28]:\n",
    "    print(u)"
   ]
  },
  {
   "cell_type": "markdown",
   "id": "a375a336-d5bf-4df0-945e-c41a82930260",
   "metadata": {},
   "source": [
    "### Simulating an extreme result"
   ]
  },
  {
   "cell_type": "markdown",
   "id": "aec03300-353b-4035-a630-a5563c7f9ade",
   "metadata": {},
   "source": [
    "Imagine we have 375 conversions spread across cohortA and 425 conversions spread across cohortB.  Intuition suggests this is a relatively extreme result in terms of a random distribution of 800 conversions acrosss the two equal cohorts.  How can we model it?  Let's start by writing some simple functions that allow us to randomly distribute N conversions across a cohort.  We can test we are able to populate cohortA with those functions using `assert` as follows:"
   ]
  },
  {
   "cell_type": "code",
   "execution_count": 3,
   "id": "b0191cd4-0c05-4713-945f-6589379f6f13",
   "metadata": {},
   "outputs": [],
   "source": [
    "def generateNRandomIndexes(N, end, start=0):\n",
    "    ''' Generate N random indices in range from start to end '''\n",
    "    idx = []\n",
    "    while len(idx) < N:\n",
    "        x = (int(random.random() * (end-start))) + start\n",
    "        assert(x >=start and x <= end)\n",
    "        idx.append(x)\n",
    "    assert(len(idx) == N)\n",
    "    return sorted(idx)\n",
    "\n",
    "def populateNConversionsAtRandom(N, cohort):\n",
    "    #print(f\"Populating {N} conversions in cohort of len {len(cohort)}\")\n",
    "    converted_users = []\n",
    "    idx = generateNRandomIndexes(N, len(cohort))\n",
    "    for i, x in enumerate(idx):\n",
    "        user = cohort[i]\n",
    "        user['cvr'] = 1\n",
    "        converted_users.append({'cvr':user.get('cvr'), 'cohort':user.get('cohort')})\n",
    "    return converted_users\n",
    "\n",
    "def resetConversions(cohort):\n",
    "    for user in cohort:\n",
    "        user['cvr'] = 0\n",
    "    return cohort\n",
    "\n",
    "def countConversions(cohort):\n",
    "    countA = 0\n",
    "    countB = 0\n",
    "    for user in cohort:\n",
    "        if user.get('cvr') == 1:\n",
    "            if user.get('cohort') == 'A':\n",
    "                countA += 1\n",
    "            elif user.get('cohort') == 'B':\n",
    "                countB += 1\n",
    "    return countA, countB\n",
    "\n",
    "def getConversions(cohort):\n",
    "    converted_users = []\n",
    "    for user in cohort:\n",
    "        if user.get('cvr') == 1:\n",
    "            converted_users.append(user)\n",
    "    return converted_users\n",
    "\n",
    "# populate cohortA with 375 conversions, check we count 375 conversions, reset and count we have 0 again.\n",
    "resetConversions(cohortA)\n",
    "assert(countConversions(cohortA) == (0,0))\n",
    "populateNConversionsAtRandom(375, cohortA)\n",
    "assert(countConversions(cohortA) == (375, 0))\n",
    "resetConversions(cohortA)\n",
    "assert(countConversions(cohortA) == (0,0))"
   ]
  },
  {
   "cell_type": "markdown",
   "id": "e31c175d-838c-4e90-9122-5ddd94ae9a01",
   "metadata": {},
   "source": [
    "We can extend the test to ensure we are able to populate a fixed number of conversions per cohort to generate the extreme result:"
   ]
  },
  {
   "cell_type": "code",
   "execution_count": 4,
   "id": "8471a7c0-cca6-40cb-bbb7-d0a0b1f7d7d4",
   "metadata": {},
   "outputs": [
    {
     "name": "stdout",
     "output_type": "stream",
     "text": [
      "We found (375, 425) conversions across (cohortA,cohortB)\n"
     ]
    }
   ],
   "source": [
    "resetConversions(allUsers)\n",
    "populateNConversionsAtRandom(375, cohortA)\n",
    "populateNConversionsAtRandom(425, cohortB)\n",
    "assert(countConversions(allUsers) == (375,425))\n",
    "print(f\"We found {countConversions(allUsers)} conversions across (cohortA,cohortB)\")\n",
    "resetConversions(allUsers)\n",
    "assert(countConversions(allUsers) == (0,0))"
   ]
  },
  {
   "cell_type": "markdown",
   "id": "147dba4e-02d3-4b9a-861c-0760cdd2d636",
   "metadata": {},
   "source": [
    "### Creating an A/A testing distribution"
   ]
  },
  {
   "cell_type": "markdown",
   "id": "7a5b03c1-71b4-4253-87c4-cc4284513652",
   "metadata": {},
   "source": [
    "Now let's pack what we've done so far up into a method `generateRandomConversionDistibution` that allows us to randomly distribute N conversions across a cohort.  We will use this to distribute 800 conversions across our 20k users in `allUsers` to simulate A/A testing.  This is an equivalent conversion rate of 4% which is really good by ecommerce marketplace standards.  Note the method we write will by default shuffle and reset any existing conversions before generating a random distribution.  This is important to ensure it is idempotent and there are no side effects between each execution.  In the next code block we execute `generateRandomConversionDistibution` a couple of times to see what results we get."
   ]
  },
  {
   "cell_type": "code",
   "execution_count": 5,
   "id": "af3011aa-6f3e-4dd4-9b5d-6ffb2dacfac8",
   "metadata": {},
   "outputs": [
    {
     "name": "stdout",
     "output_type": "stream",
     "text": [
      "(399, 401)\n",
      "(345, 455)\n"
     ]
    }
   ],
   "source": [
    "def generateRandomConversionDistibution(N, cohort, shuffle=True):\n",
    "    random.shuffle(cohort)\n",
    "    resetConversions(cohort)\n",
    "    assert(countConversions(cohort) == (0,0))\n",
    "    converted_users = populateNConversionsAtRandom(N, cohort)\n",
    "    #print(converted_users)\n",
    "    countA, countB = countConversions(cohort)\n",
    "    assert(countA + countB == N)\n",
    "    return countA, countB\n",
    "    \n",
    "print(generateRandomConversionDistibution(800, allUsers))\n",
    "print(generateRandomConversionDistibution(800, allUsers))"
   ]
  },
  {
   "cell_type": "markdown",
   "id": "cf8f05c6-637e-4801-bbdb-15c175cd70f4",
   "metadata": {},
   "source": [
    "Now let's run this 1000 times with the 800 conversions spread across cohorts A and B to simulate a 4% conversion rate to build our A/A test distribution.  We will time this operation:"
   ]
  },
  {
   "cell_type": "code",
   "execution_count": 6,
   "id": "2a3ff7f0-6257-47b4-af4b-95fa772c39c8",
   "metadata": {},
   "outputs": [
    {
     "name": "stdout",
     "output_type": "stream",
     "text": [
      "CPU times: user 17.9 s, sys: 58.3 ms, total: 18 s\n",
      "Wall time: 18.1 s\n"
     ]
    }
   ],
   "source": [
    "%%time\n",
    "\n",
    "distribution = []\n",
    "for i in range(1000):\n",
    "    countA, countB = generateRandomConversionDistibution(800, allUsers)\n",
    "    distribution.append({'cohortA': countA, 'cohortB': countB})"
   ]
  },
  {
   "cell_type": "markdown",
   "id": "642933c9-d374-4e63-bf6f-5f6366b2333e",
   "metadata": {},
   "source": [
    "### Assessing how extreme our particular original result was"
   ]
  },
  {
   "cell_type": "markdown",
   "id": "67028f35-bcca-4ff8-8513-9c2b3085aba9",
   "metadata": {},
   "source": [
    "We want to understand how likely it was that we would have got a split of 425 and 375 coversions across cohorts A and B respectively at random from A/A testin.   We can use the results in our `distribution` to help us out.  Let's first create a `pandas` dataframe `df` which has two columns countA and countB holding our counts:"
   ]
  },
  {
   "cell_type": "code",
   "execution_count": 7,
   "id": "98516491-d1f0-44b9-9d11-b6699840acb9",
   "metadata": {},
   "outputs": [
    {
     "name": "stdout",
     "output_type": "stream",
     "text": [
      "(1000, 2)\n"
     ]
    },
    {
     "data": {
      "text/html": [
       "<div>\n",
       "<style scoped>\n",
       "    .dataframe tbody tr th:only-of-type {\n",
       "        vertical-align: middle;\n",
       "    }\n",
       "\n",
       "    .dataframe tbody tr th {\n",
       "        vertical-align: top;\n",
       "    }\n",
       "\n",
       "    .dataframe thead th {\n",
       "        text-align: right;\n",
       "    }\n",
       "</style>\n",
       "<table border=\"1\" class=\"dataframe\">\n",
       "  <thead>\n",
       "    <tr style=\"text-align: right;\">\n",
       "      <th></th>\n",
       "      <th>cohortA</th>\n",
       "      <th>cohortB</th>\n",
       "    </tr>\n",
       "  </thead>\n",
       "  <tbody>\n",
       "    <tr>\n",
       "      <th>0</th>\n",
       "      <td>404</td>\n",
       "      <td>396</td>\n",
       "    </tr>\n",
       "    <tr>\n",
       "      <th>1</th>\n",
       "      <td>394</td>\n",
       "      <td>406</td>\n",
       "    </tr>\n",
       "    <tr>\n",
       "      <th>2</th>\n",
       "      <td>396</td>\n",
       "      <td>404</td>\n",
       "    </tr>\n",
       "  </tbody>\n",
       "</table>\n",
       "</div>"
      ],
      "text/plain": [
       "   cohortA  cohortB\n",
       "0      404      396\n",
       "1      394      406\n",
       "2      396      404"
      ]
     },
     "execution_count": 7,
     "metadata": {},
     "output_type": "execute_result"
    }
   ],
   "source": [
    "import pandas as pd\n",
    "\n",
    "df = pd.DataFrame(distribution)\n",
    "print(df.shape)\n",
    "df.head(3)"
   ]
  },
  {
   "cell_type": "markdown",
   "id": "8a00f8e7-1f0b-4009-a129-9679a2ede380",
   "metadata": {},
   "source": [
    "Let's have a look at some of the stats values for this distribution:"
   ]
  },
  {
   "cell_type": "code",
   "execution_count": 8,
   "id": "341b1009-77c1-4fbb-a3b7-eadf3fe8121d",
   "metadata": {},
   "outputs": [
    {
     "data": {
      "text/html": [
       "<div>\n",
       "<style scoped>\n",
       "    .dataframe tbody tr th:only-of-type {\n",
       "        vertical-align: middle;\n",
       "    }\n",
       "\n",
       "    .dataframe tbody tr th {\n",
       "        vertical-align: top;\n",
       "    }\n",
       "\n",
       "    .dataframe thead th {\n",
       "        text-align: right;\n",
       "    }\n",
       "</style>\n",
       "<table border=\"1\" class=\"dataframe\">\n",
       "  <thead>\n",
       "    <tr style=\"text-align: right;\">\n",
       "      <th></th>\n",
       "      <th>cohortA</th>\n",
       "      <th>cohortB</th>\n",
       "    </tr>\n",
       "  </thead>\n",
       "  <tbody>\n",
       "    <tr>\n",
       "      <th>count</th>\n",
       "      <td>1000.000000</td>\n",
       "      <td>1000.000000</td>\n",
       "    </tr>\n",
       "    <tr>\n",
       "      <th>mean</th>\n",
       "      <td>400.514000</td>\n",
       "      <td>399.486000</td>\n",
       "    </tr>\n",
       "    <tr>\n",
       "      <th>std</th>\n",
       "      <td>14.512699</td>\n",
       "      <td>14.512699</td>\n",
       "    </tr>\n",
       "    <tr>\n",
       "      <th>min</th>\n",
       "      <td>340.000000</td>\n",
       "      <td>354.000000</td>\n",
       "    </tr>\n",
       "    <tr>\n",
       "      <th>25%</th>\n",
       "      <td>391.000000</td>\n",
       "      <td>390.000000</td>\n",
       "    </tr>\n",
       "    <tr>\n",
       "      <th>50%</th>\n",
       "      <td>400.000000</td>\n",
       "      <td>400.000000</td>\n",
       "    </tr>\n",
       "    <tr>\n",
       "      <th>75%</th>\n",
       "      <td>410.000000</td>\n",
       "      <td>409.000000</td>\n",
       "    </tr>\n",
       "    <tr>\n",
       "      <th>max</th>\n",
       "      <td>446.000000</td>\n",
       "      <td>460.000000</td>\n",
       "    </tr>\n",
       "  </tbody>\n",
       "</table>\n",
       "</div>"
      ],
      "text/plain": [
       "           cohortA      cohortB\n",
       "count  1000.000000  1000.000000\n",
       "mean    400.514000   399.486000\n",
       "std      14.512699    14.512699\n",
       "min     340.000000   354.000000\n",
       "25%     391.000000   390.000000\n",
       "50%     400.000000   400.000000\n",
       "75%     410.000000   409.000000\n",
       "max     446.000000   460.000000"
      ]
     },
     "execution_count": 8,
     "metadata": {},
     "output_type": "execute_result"
    }
   ],
   "source": [
    "df.describe()"
   ]
  },
  {
   "cell_type": "markdown",
   "id": "51c4c096-2444-4bec-ab19-7e08c07b815b",
   "metadata": {},
   "source": [
    "Our standard deviation or $\\sigma$ is 13.75 in both cases.  This means our variance which is $\\sigma^2$ is 189.06.  This is important in respect of understanding effect size or $\\delta$ relative to sample size $n$:\n",
    "<p>\n",
    "$$n = 16 \\sigma^2 / \\delta^2$$\n",
    "</p>"
   ]
  },
  {
   "cell_type": "markdown",
   "id": "849e9da6-1a62-4e94-a204-925197ea30be",
   "metadata": {},
   "source": [
    "Let's plot a histogram of the distribution of cohortA and cohortB and include lines at the cutoff values of 375 for cohortA and 425 for cohortB:"
   ]
  },
  {
   "cell_type": "code",
   "execution_count": 9,
   "id": "5bad76b8-ca91-4a5c-814f-d6ddd40c724a",
   "metadata": {},
   "outputs": [
    {
     "data": {
      "image/png": "[encoded data removed]",
      "text/plain": [
       "<Figure size 640x480 with 1 Axes>"
      ]
     },
     "metadata": {},
     "output_type": "display_data"
    }
   ],
   "source": [
    "def plotDistribution(N, lines=[]):\n",
    "    ax = df.plot.hist(bins=N, alpha=0.5)\n",
    "    ax.set_title(f\"This is the title\")\n",
    "    for line in lines:\n",
    "        ax.axvline(line, color='red', linestyle='dashed', linewidth=2)\n",
    "    \n",
    "plotDistribution(30, [375])"
   ]
  },
  {
   "cell_type": "markdown",
   "id": "62be35a6-1f42-410b-8c7b-5cb20fb9ee12",
   "metadata": {},
   "source": [
    "We observe a close overlap between the distribution of cohortA and cohortB as we would expect from A/A testing.  We can run a **t-test** across the two cohorts to measure the p-value of their difference:"
   ]
  },
  {
   "cell_type": "code",
   "execution_count": 10,
   "id": "b33223a7-ff23-4fea-b310-aec9615250e7",
   "metadata": {},
   "outputs": [
    {
     "data": {
      "text/plain": [
       "Ttest_indResult(statistic=1.5839079516348582, pvalue=0.11337292567948021)"
      ]
     },
     "execution_count": 10,
     "metadata": {},
     "output_type": "execute_result"
    }
   ],
   "source": [
    "import scipy.stats as stats\n",
    "# Perform the two sample t-test with equal variances\n",
    "stats.ttest_ind(a=df.cohortA, b=df.cohortB, equal_var=True)"
   ]
  },
  {
   "cell_type": "markdown",
   "id": "1a680106-915c-45f0-b5a4-2dec50e2d08b",
   "metadata": {},
   "source": [
    "We can now calculate our p-value $\\alpha$ for our extreme value by counting up how many results in the normal distribution lie outside the extrema values we measured.  First of all we calculate our cohortA value:"
   ]
  },
  {
   "cell_type": "code",
   "execution_count": 11,
   "id": "ffda913e-2c63-4c9e-bcf3-2b0d8cf5a729",
   "metadata": {},
   "outputs": [
    {
     "data": {
      "text/plain": [
       "0.037"
      ]
     },
     "execution_count": 11,
     "metadata": {},
     "output_type": "execute_result"
    }
   ],
   "source": [
    "a = len(df.cohortA[df.cohortA <= 375]) / len(df.cohortA)\n",
    "a"
   ]
  },
  {
   "cell_type": "markdown",
   "id": "01228d47-bece-46ae-baf3-834ff5456ff9",
   "metadata": {},
   "source": [
    "We are not running a two-sided test here as we constrained the overall number of Our $\\sigma$ is therefore the one for cohort A.  If this value is less than 0.05 then the null hypothesis is rejected.  If it is 0.05 or above, then the null hypothesis is proven.  In actuality, our $\\sigma$ alpha would be sampled multiple times during a test and we would be tracking our significance over time accordingly."
   ]
  },
  {
   "cell_type": "markdown",
   "id": "c38ce11f-bd5c-4262-8b34-785a390365de",
   "metadata": {},
   "source": [
    "### Modelling a difference in results between cohortss"
   ]
  },
  {
   "cell_type": "markdown",
   "id": "2e159bf8-5262-4713-b104-484b26014bd9",
   "metadata": {},
   "source": [
    "TBD.  We want to generate and plot an example A/B testing scenario where A and B are quite different."
   ]
  }
 ],
 "metadata": {
  "kernelspec": {
   "display_name": "Python 3 (ipykernel)",
   "language": "python",
   "name": "python3"
  },
  "language_info": {
   "codemirror_mode": {
    "name": "ipython",
    "version": 3
   },
   "file_extension": ".py",
   "mimetype": "text/x-python",
   "name": "python",
   "nbconvert_exporter": "python",
   "pygments_lexer": "ipython3",
   "version": "3.9.2"
  }
 },
 "nbformat": 4,
 "nbformat_minor": 5
}
